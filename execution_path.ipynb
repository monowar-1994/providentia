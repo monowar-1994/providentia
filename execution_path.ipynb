{
 "cells": [
  {
   "cell_type": "code",
   "execution_count": 1,
   "metadata": {},
   "outputs": [],
   "source": [
    "import json\n",
    "import os"
   ]
  },
  {
   "cell_type": "code",
   "execution_count": 2,
   "metadata": {},
   "outputs": [],
   "source": [
    "ast_file = os.path.join(os.getcwd(),'ast_dump.json')"
   ]
  },
  {
   "cell_type": "code",
   "execution_count": 10,
   "metadata": {},
   "outputs": [
    {
     "data": {
      "text/plain": [
       "3"
      ]
     },
     "execution_count": 10,
     "metadata": {},
     "output_type": "execute_result"
    }
   ],
   "source": [
    "with open(ast_file, 'r') as f:\n",
    "    ast_dict = json.load(f)\n",
    "\n",
    "len(ast_dict['ext'])"
   ]
  },
  {
   "cell_type": "code",
   "execution_count": 23,
   "metadata": {},
   "outputs": [],
   "source": [
    " # true_block = node['iftrue']\n",
    "    # true_block_calls = []\n",
    "    # num_exec_path_in_true_block = 1\n",
    "\n",
    "    # for item in true_block['block_items']:\n",
    "    #     if item['_nodetype'] == 'If':\n",
    "    #         # Things are a bit complicated here. Need help simplifying \n",
    "    #         if_else_paths = parse_if_else_node(item)\n",
    "    #         if len(if_else_paths) == 0: # This means there are no function call inside the if else block.\n",
    "    #             pass\n",
    "    #         elif len(if_else_paths)>0 and isinstance(if_else_paths[0], list):\n",
    "    #             # Means multiple paths found. Clone and Append\n",
    "    #             pass\n",
    "    #         elif len(if_else_paths)>0 and isinstance(if_else_paths[0], str):\n",
    "    #             # Means a monolithic path with one or two function call. No jump inside\n",
    "    #             pass\n",
    "    #         else:\n",
    "    #             pass\n",
    "\n",
    "    #     elif item['_nodetype'] == 'FuncCall':\n",
    "    #         if num_exec_path_in_true_block == 1:\n",
    "    #             true_block_calls.extend(parse_func_call_node(item))\n",
    "    #         else:\n",
    "    #             for i in range(num_exec_path_in_true_block):\n",
    "    #                 true_block_calls[i].extend(parse_func_call_node(item))\n",
    "    #     elif item['_nodetype'] == 'Assignment':\n",
    "    #         #parse_assignment_node(node)\n",
    "    #         if num_exec_path_in_true_block == 1:\n",
    "    #             true_block_calls.extend(parse_assignment_node(item))\n",
    "    #         else:\n",
    "    #             for i in range(num_exec_path_in_true_block):\n",
    "    #                 true_block_calls[i].extend(parse_assignment_node(item))\n",
    "\n",
    "    #     else:\n",
    "    #         pass\n",
    "\n",
    "    # false_block = node['iffalse']\n",
    "    # false_block_calls = []"
   ]
  },
  {
   "cell_type": "code",
   "execution_count": 13,
   "metadata": {},
   "outputs": [
    {
     "name": "stdout",
     "output_type": "stream",
     "text": [
      "A function definiton sumfunc\n",
      "Found Function call of printf\n",
      "A function definiton main\n",
      "Found Function call of somefunc\n"
     ]
    }
   ],
   "source": [
    "for element in ast_dict['ext']:\n",
    "    if element['_nodetype'] == 'FuncDef':\n",
    "        print(\"A function definiton {}\".format(element['decl']['name']))\n",
    "        for item in element['body']['block_items']:\n",
    "            if item['_nodetype'] == 'FuncCall':\n",
    "                print(\"Found Function call of {}\".format(item['name']['name']))"
   ]
  },
  {
   "cell_type": "code",
   "execution_count": 2,
   "metadata": {},
   "outputs": [],
   "source": [
    "class SimplifiedAstNode:\n",
    "    def __init__(self, _type, _name = None):\n",
    "        self.type = _type\n",
    "        self.name = _name # Only has a name if node_type is FuncCall\n",
    "        self.calls = [] # Only has calls if node_type is if-else and FuncCalls are in condition blocks\n",
    "        self.children = []\n",
    "        self.children_json = []\n",
    "    "
   ]
  },
  {
   "cell_type": "code",
   "execution_count": 8,
   "metadata": {},
   "outputs": [],
   "source": [
    "def parse_func_call_node(root, node, is_if_node = False):\n",
    "    assert node['_nodetype'] == 'FuncCall'\n",
    "    print(\"Function Call Node Found\")\n",
    "    func_call = node['name']['name']\n",
    "    temp_node = SimplifiedAstNode('FuncCall', func_call)\n",
    "    if is_if_node:\n",
    "        root.calls.append(temp_node)\n",
    "        print(\"Function call inside if caluse: {}\".format(func_call))\n",
    "    else:\n",
    "        root.children.append(temp_node)\n",
    "        print(\"Function Call: {}\".format(func_call))\n",
    "    \n",
    "\n",
    "def parse_assignment_node(root, node):\n",
    "    assert node['_nodetype'] == 'Assignment'\n",
    "    print(\"Assignment Node Found\")\n",
    "    if node['rvalue']['_nodetype'] == 'FuncCall':\n",
    "        parse_func_call_node(root, node['rvalue'])\n",
    "    \n",
    "\n",
    "def parse_if_else_node(root,node):\n",
    "    assert node['_nodetype'] == 'If'\n",
    "    print(\"If Node Found\")\n",
    "\n",
    "    curr_node = SimplifiedAstNode('If')\n",
    "    root.children.append(curr_node)\n",
    "    \n",
    "    if node['cond']['left']['_nodetype'] == 'FuncCall':\n",
    "        # Do something\n",
    "        parse_func_call_node(curr_node, node['cond']['left'], is_if_node=True)\n",
    "        \n",
    "    if node['cond']['right']['_nodetype'] == 'FuncCall':\n",
    "        # Do something\n",
    "        parse_func_call_node(curr_node, node['cond']['right'], is_if_node=True)\n",
    "        \n",
    "    \n",
    "    true_node = SimplifiedAstNode('iftrue')\n",
    "    curr_node.children.append(true_node)\n",
    "    if 'iftrue' in node:\n",
    "        true_block = node['iftrue']\n",
    "        if 'block_items' in true_block and true_block['block_items'] is not None:\n",
    "            for item in true_block['block_items']:\n",
    "                if item['_nodetype'] == 'If':\n",
    "                    parse_if_else_node(true_node, item)\n",
    "                elif item['_nodetype'] == 'FuncCall':\n",
    "                    parse_func_call_node(true_node, item)            \n",
    "                elif item['_nodetype'] == 'Assignment':\n",
    "                    parse_assignment_node(true_node, item)\n",
    "                else:\n",
    "                    pass\n",
    "\n",
    "    false_node = SimplifiedAstNode('iffalse')\n",
    "    curr_node.children.append(false_node)\n",
    "    if 'iffalse' in node and node['iffalse'] is not None:\n",
    "        false_block = node['iffalse']\n",
    "        if 'block_items' in false_block and false_block['block_items'] is not None:\n",
    "            for item in false_block['block_items']:\n",
    "                if item['_nodetype'] == 'If':\n",
    "                    parse_if_else_node(false_node, item)\n",
    "                elif item['_nodetype'] == 'FuncCall':\n",
    "                    parse_func_call_node(false_node, item)            \n",
    "                elif item['_nodetype'] == 'Assignment':\n",
    "                    parse_assignment_node(true_node, item)\n",
    "                else:\n",
    "                    pass\n",
    "        "
   ]
  },
  {
   "cell_type": "code",
   "execution_count": 9,
   "metadata": {},
   "outputs": [],
   "source": [
    "def parse_function_definition(node):\n",
    "    assert node[\"_nodetype\"] == 'FuncDef'\n",
    "    items_in_function_block = node[\"body\"][\"block_items\"]\n",
    "    function_name = node[\"decl\"][\"name\"]\n",
    "    function_root_node = SimplifiedAstNode('FuncDef', function_name)\n",
    "    num_block_items = len(items_in_function_block)\n",
    "\n",
    "    for item in items_in_function_block:\n",
    "        if item['_nodetype'] == 'FuncCall':\n",
    "            parse_func_call_node(function_root_node, item)\n",
    "        elif item['_nodetype'] == 'Assignment':\n",
    "            parse_assignment_node(function_root_node, item)    \n",
    "        elif item['_nodetype'] == 'If':\n",
    "            parse_if_else_node(function_root_node, item)\n",
    "        else:\n",
    "            pass\n",
    "\n",
    "    return function_root_node"
   ]
  },
  {
   "cell_type": "code",
   "execution_count": 22,
   "metadata": {},
   "outputs": [],
   "source": [
    "test_file_path = os.path.join(os.getcwd(),'ast_dump.json')"
   ]
  },
  {
   "cell_type": "code",
   "execution_count": 23,
   "metadata": {},
   "outputs": [
    {
     "data": {
      "text/plain": [
       "4"
      ]
     },
     "execution_count": 23,
     "metadata": {},
     "output_type": "execute_result"
    }
   ],
   "source": [
    "with open(test_file_path, 'r') as f:\n",
    "    ast_dict = json.load(f)\n",
    "\n",
    "len(ast_dict['ext'])"
   ]
  },
  {
   "cell_type": "code",
   "execution_count": 24,
   "metadata": {},
   "outputs": [
    {
     "name": "stdout",
     "output_type": "stream",
     "text": [
      "A function definiton a_random_stuff\n",
      "A function definiton sumfunc\n",
      "Function Call Node Found\n",
      "Function Call: printf\n",
      "A function definiton main\n",
      "Assignment Node Found\n",
      "Function Call Node Found\n",
      "Function Call: somefunc\n",
      "Assignment Node Found\n",
      "Function Call Node Found\n",
      "Function Call: fopen\n",
      "If Node Found\n",
      "Function Call Node Found\n",
      "Function call inside if caluse: fopen\n",
      "Function Call Node Found\n",
      "Function Call: printf\n",
      "Function Call Node Found\n",
      "Function Call: fclose\n",
      "Function Call Node Found\n",
      "Function Call: strcpy\n",
      "Function Call Node Found\n",
      "Function Call: printf\n"
     ]
    }
   ],
   "source": [
    "curr_root = None\n",
    "for element in ast_dict['ext']:\n",
    "    if element['_nodetype'] == 'FuncDef':\n",
    "        print(\"A function definiton {}\".format(element['decl']['name']))\n",
    "        curr_root = parse_function_definition(element)"
   ]
  },
  {
   "cell_type": "code",
   "execution_count": 17,
   "metadata": {},
   "outputs": [],
   "source": [
    "from queue import Queue"
   ]
  },
  {
   "cell_type": "code",
   "execution_count": 18,
   "metadata": {},
   "outputs": [],
   "source": [
    "def get_paths_from_conditon_node(node):\n",
    "    paths = []\n",
    "    if len(node.calls)>0:\n",
    "        paths.extend(node.calls)\n",
    "    true_node = node.children[0]\n",
    "    false_node = node.children[1]\n",
    "\n",
    "    true_paths = get_paths_from_branch(true_node)\n",
    "    # print(\"True node length: {}\".format(len(true_paths)))\n",
    "    false_paths = get_paths_from_branch(false_node)\n",
    "    # if false_paths is not None:\n",
    "    #     print(\"False node length: {}\".format(len(false_paths)))\n",
    "    \n",
    "    num_paths = 0\n",
    "    if false_paths is not None:\n",
    "        num_paths += len(false_paths)\n",
    "    \n",
    "    num_paths += len(true_paths)\n",
    "\n",
    "    result_paths = []\n",
    "    if len(paths) == 0:\n",
    "        result_paths.extend(true_paths)\n",
    "        if false_paths is not None:\n",
    "            result_paths.extend(false_paths)\n",
    "    else:\n",
    "        for path in paths:\n",
    "            for t_path in true_paths:\n",
    "                temp = path.copy()\n",
    "                temp.extend(t_path)\n",
    "                result_paths.append(temp)\n",
    "            if false_paths is not None:\n",
    "                for f_path in false_paths:\n",
    "                    temp = path.copy()\n",
    "                    temp.extend(f_path)\n",
    "                    result_paths.append(temp)\n",
    "    \n",
    "    return result_paths\n",
    "\n",
    "\n",
    "\n",
    "def get_paths_from_branch(node):\n",
    "    if node is None:\n",
    "        return None\n",
    "    paths = list() # [Cal3, Call4]\n",
    "    paths.append([])\n",
    "    for child in node.children:\n",
    "        if child.type == 'FuncCall':\n",
    "            for path in paths:\n",
    "                path.append(child.name)\n",
    "        elif child.type == 'Assignment':\n",
    "            for path in paths:\n",
    "                path.append(child.name)\n",
    "        elif child.type == 'If':\n",
    "            temp_paths = get_paths_from_conditon_node(child) # [[], [Call5]]\n",
    "            new_paths = []\n",
    "            for path in paths:\n",
    "                for t_path in temp_paths:\n",
    "                    temp_original_path = path.copy()\n",
    "                    temp_original_path.extend(t_path)\n",
    "                    new_paths.append(temp_original_path)\n",
    "            paths = new_paths\n",
    "        else:\n",
    "            pass\n",
    "    \n",
    "    return paths\n",
    "\n",
    "def get_paths_from_func_def(node):\n",
    "    block_paths = []\n",
    "    for child in node.children:\n",
    "        if child.type == 'FuncCall':\n",
    "            block_paths.append([child.name])\n",
    "        elif child.type == 'Assignment':\n",
    "            block_paths.append([child.name])\n",
    "        elif child.type == 'If':\n",
    "            block_paths.append(get_paths_from_conditon_node(child))\n",
    "\n",
    "    result_paths = []\n",
    "    q = Queue()\n",
    "    q.put([])\n",
    "\n",
    "    for block_path in block_paths:\n",
    "        curr_size = q.qsize()\n",
    "        for i in range(curr_size):\n",
    "            incomplete_path = q.get()\n",
    "            if len(block_path) == 1:\n",
    "                temp = incomplete_path.copy()\n",
    "                temp.extend(block_path)\n",
    "                q.put(temp)\n",
    "            elif len(block_path)>1:\n",
    "                for path in block_path:\n",
    "                    temp = incomplete_path.copy()\n",
    "                    temp.extend(path)\n",
    "                    q.put(temp)\n",
    "    \n",
    "    while q.empty() == False:\n",
    "        result_paths.append(q.get())\n",
    "    \n",
    "    return result_paths\n",
    "    \n",
    "\n",
    "\n",
    "\n"
   ]
  },
  {
   "cell_type": "code",
   "execution_count": 19,
   "metadata": {},
   "outputs": [
    {
     "data": {
      "text/plain": [
       "'If'"
      ]
     },
     "execution_count": 19,
     "metadata": {},
     "output_type": "execute_result"
    }
   ],
   "source": [
    "curr_root.children[2].type"
   ]
  },
  {
   "cell_type": "code",
   "execution_count": 20,
   "metadata": {},
   "outputs": [],
   "source": [
    "paths = get_paths_from_func_def(curr_root)\n",
    "#paths = get_paths_from_conditon_node(curr_root.children[2])"
   ]
  },
  {
   "cell_type": "code",
   "execution_count": 21,
   "metadata": {},
   "outputs": [
    {
     "name": "stdout",
     "output_type": "stream",
     "text": [
      "[['A', 'B', 'printf', 'printf'], ['A', 'B', 'printf'], ['A', 'B', 'exit']]\n"
     ]
    }
   ],
   "source": [
    "print(paths)"
   ]
  },
  {
   "cell_type": "code",
   "execution_count": 1,
   "metadata": {},
   "outputs": [],
   "source": [
    "syscall_file_name = '/home/rashik/Documents/glib_source/glibc-2.36/sysdeps/unix/syscalls.list'"
   ]
  },
  {
   "cell_type": "code",
   "execution_count": 3,
   "metadata": {},
   "outputs": [],
   "source": [
    "syscall_map = os.path.join(os.getcwd(), 'syscall_map.json')"
   ]
  },
  {
   "cell_type": "code",
   "execution_count": 4,
   "metadata": {},
   "outputs": [
    {
     "name": "stdout",
     "output_type": "stream",
     "text": [
      "recvfrom\n",
      "-\n",
      "recvfrom\n",
      "Ci:ibUiBN\n",
      "__libc_recvfrom\n",
      "__recvfrom\n",
      "recvfrom\n"
     ]
    }
   ],
   "source": [
    "line = 'recvfrom\t-\trecvfrom\tCi:ibUiBN\t__libc_recvfrom __recvfrom recvfrom'\n",
    "tokens = line.split()\n",
    "for token in tokens:\n",
    "    print(token)"
   ]
  },
  {
   "cell_type": "code",
   "execution_count": 6,
   "metadata": {},
   "outputs": [],
   "source": [
    "import json"
   ]
  },
  {
   "cell_type": "code",
   "execution_count": 7,
   "metadata": {},
   "outputs": [],
   "source": [
    "sysmap = dict()\n",
    "with open(syscall_file_name, 'r') as f:\n",
    "    for line in f:\n",
    "        tokens = line.split()\n",
    "        syscall_name = tokens[2]\n",
    "        for i in range(4, len(tokens),1):\n",
    "            sysmap[tokens[i]] = syscall_name\n",
    "\n",
    "\n",
    "json.dump(sysmap, open(syscall_map, 'w'))"
   ]
  },
  {
   "cell_type": "code",
   "execution_count": null,
   "metadata": {},
   "outputs": [],
   "source": []
  }
 ],
 "metadata": {
  "kernelspec": {
   "display_name": "Python 3.10.6 64-bit",
   "language": "python",
   "name": "python3"
  },
  "language_info": {
   "codemirror_mode": {
    "name": "ipython",
    "version": 3
   },
   "file_extension": ".py",
   "mimetype": "text/x-python",
   "name": "python",
   "nbconvert_exporter": "python",
   "pygments_lexer": "ipython3",
   "version": "3.10.6"
  },
  "orig_nbformat": 4,
  "vscode": {
   "interpreter": {
    "hash": "916dbcbb3f70747c44a77c7bcd40155683ae19c65e1c03b4aa3499c5328201f1"
   }
  }
 },
 "nbformat": 4,
 "nbformat_minor": 2
}
